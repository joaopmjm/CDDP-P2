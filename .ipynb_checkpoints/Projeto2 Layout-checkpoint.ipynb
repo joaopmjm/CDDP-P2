{
 "cells": [
  {
   "cell_type": "markdown",
   "metadata": {},
   "source": [
    "___\n",
    "# Ciência dos Dados - PROJETO 2"
   ]
  },
  {
   "cell_type": "markdown",
   "metadata": {},
   "source": [
    "___\n",
    "## Nome 1 João Pedro Montefeltro Junqueira Meirelles\n",
    "\n",
    "## Nome 2 Ester Quintino\n",
    "\n",
    "___"
   ]
  },
  {
   "cell_type": "markdown",
   "metadata": {},
   "source": [
    "___\n",
    "\n",
    "## 1. Problema\n",
    "\n",
    "O Classificador Naive-Bayes, o qual se baseia no uso do teorema de Bayes, é largamente utilizado em filtros anti-spam de e-mails. O classificador permite calcular qual a probabilidade de uma mensagem ser SPAM considerando as palavras em seu conteúdo e, de forma complementar, permite calcular a probabilidade de uma mensagem ser HAM dada as palavras descritas na mensagem.\n",
    "\n",
    "Para realizar o MVP (minimum viable product) do projeto, você precisa programar uma versão do classificador que \"aprende\" o que é uma mensagem SPAM considerando uma base de treinamento e comparar o desempenho dos resultados com uma base de testes. \n"
   ]
  },
  {
   "cell_type": "markdown",
   "metadata": {},
   "source": [
    "___\n",
    "## 2. Separação da base de dados em Treinamento e Teste\n",
    "\n",
    "A base de dados deve ser separada em duas partes, aleatoriamente, considerando: \n",
    "    \n",
    "    75% dos dados para a parte Treinamento; e\n",
    "    25% dos dados para a parte Teste."
   ]
  },
  {
   "cell_type": "code",
   "execution_count": 1,
   "metadata": {
    "collapsed": true
   },
   "outputs": [],
   "source": [
    "import pandas as pd\n",
    "import os"
   ]
  },
  {
   "cell_type": "code",
   "execution_count": 2,
   "metadata": {},
   "outputs": [
    {
     "name": "stdout",
     "output_type": "stream",
     "text": [
      "Esperamos trabalhar no diretório\n",
      "C:\\Users\\furyo\\Desktop\\CDDP-P2\n"
     ]
    }
   ],
   "source": [
    "print('Esperamos trabalhar no diretório')\n",
    "print(os.getcwd())"
   ]
  },
  {
   "cell_type": "code",
   "execution_count": 3,
   "metadata": {
    "collapsed": true
   },
   "outputs": [],
   "source": [
    "dados = pd.read_excel('spamham.xlsx')"
   ]
  },
  {
   "cell_type": "code",
   "execution_count": 4,
   "metadata": {
    "collapsed": true
   },
   "outputs": [],
   "source": [
    "num = dados.Email.count()"
   ]
  },
  {
   "cell_type": "markdown",
   "metadata": {
    "collapsed": true
   },
   "source": [
    "##### Sepraração dps da limpeza"
   ]
  },
  {
   "cell_type": "markdown",
   "metadata": {},
   "source": [
    "___\n",
    "## 3. Classificador Naive-Bayes"
   ]
  },
  {
   "cell_type": "code",
   "execution_count": 5,
   "metadata": {},
   "outputs": [
    {
     "data": {
      "text/plain": [
       "0       Go until jurong point crazy Available only in ...\n",
       "1                                 Ok lar Joking wif u oni\n",
       "2       Free entry in 2 a wkly comp to win FA Cup fina...\n",
       "3             U dun say so early hor U c already then say\n",
       "4       Nah I don't think he goes to usf he lives arou...\n",
       "5       FreeMsg Hey there darling it's been 3 week's n...\n",
       "6       Even my brother is not like to speak with me T...\n",
       "7       As per your request 'Melle Melle Oru Minnaminu...\n",
       "8       WINNER As a valued network customer you have b...\n",
       "9       Had your mobile 11 months or more U R entitled...\n",
       "10      I'm gonna be home soon and i don't want to tal...\n",
       "11      SIX chances to win CASH From 100 to 20000 poun...\n",
       "12      URGENT You have won a 1 week FREE membership i...\n",
       "13      I've been searching for the right words to tha...\n",
       "14                      I HAVE A DATE ON SUNDAY WITH WILL\n",
       "15      XXXMobileMovieClub To use your credit click th...\n",
       "16                                  Oh ki'm watching here\n",
       "17      Eh u remember how 2 spell his name Yes i did H...\n",
       "18      Fine if thatåÕs the way u feel ThatåÕs the way...\n",
       "19      England v Macedonia  dont miss the goalsteam n...\n",
       "20               Is that seriously how you spell his name\n",
       "21      I‰Û÷m going to try for 2 months ha ha only joking\n",
       "22         So Ì pay first lar Then when is da stock comin\n",
       "23      Aft i finish my lunch then i go str down lor A...\n",
       "24      Ffffffffff Alright no way I can meet up with y...\n",
       "25      Just forced myself to eat a slice I'm really n...\n",
       "26                          Lol your always so convincing\n",
       "27      Did you catch the bus  Are you frying an egg  ...\n",
       "28      I'm back amp we're packing the car now I'll le...\n",
       "29      Ahhh Work I vaguely remember that What does it...\n",
       "                              ...                        \n",
       "5544             Armand says get your ass over to epsilon\n",
       "5545                U still havent got urself a jacket ah\n",
       "5546    I'm taking derek amp taylor to walmart if I'm ...\n",
       "5547        Hi its in durban are you still on this number\n",
       "5548             Ic There are a lotta childporn cars then\n",
       "5549    Had your contract mobile 11 Mnths Latest Motor...\n",
       "5550                     No I was trying it all weekend V\n",
       "5551    You know wot people wear T shirts jumpers hat ...\n",
       "5552            Cool what time you think you can get here\n",
       "5553    Wen did you get so spiritual and deep That's g...\n",
       "5554    Have a safe trip to Nigeria Wish you happiness...\n",
       "5555                            Hahahause your brain dear\n",
       "5556    Well keep in mind I've only got enough gas for...\n",
       "5557    Yeh Indians was nice Tho it did kane me off a ...\n",
       "5558    Yes i have So that's why u texted Pshewmissing...\n",
       "5559    No I meant the calculation is the same That lt...\n",
       "5560                                Sorry I'll call later\n",
       "5561    if you aren't here in the next ltgt hours imma...\n",
       "5562                      Anything lor Juz both of us lor\n",
       "5563    Get me out of this dump heap My mom decided to...\n",
       "5564    Ok lor Sony ericsson salesman I ask shuhui the...\n",
       "5565                                   Ard 6 like dat lor\n",
       "5566    Why don't you wait 'til at least wednesday to ...\n",
       "5567                                            Huh y lei\n",
       "5568    REMINDER FROM O2 To get 250 pounds free call c...\n",
       "5569    This is the 2nd time we have tried 2 contact u...\n",
       "5570                  Will Ì b going to esplanade fr home\n",
       "5571    Pity  was in mood for that Soany other suggest...\n",
       "5572    The guy did some bitching but I acted like i'd...\n",
       "5573                           Rofl. Its true to its name\n",
       "Name: Email, Length: 5574, dtype: object"
      ]
     },
     "execution_count": 5,
     "metadata": {},
     "output_type": "execute_result"
    }
   ],
   "source": [
    "#limpeza\n",
    "arranca = [':','!','?',',','\"','/',';','.','-','_','=','+','(',')','*','@','#','$','%','§','&']\n",
    "for i in range(num):\n",
    "    dados.Email[i:i+1] = dados.Email[i:i+1].str.replace('  ',' ')\n",
    "    for j in arranca:\n",
    "        dados.Email[i:i+1] = dados.Email[i:i+1].str.replace(j,'')\n",
    "\n",
    "dados.Email"
   ]
  },
  {
   "cell_type": "code",
   "execution_count": 6,
   "metadata": {},
   "outputs": [
    {
     "data": {
      "text/plain": [
       "99.97606510292006"
      ]
     },
     "execution_count": 6,
     "metadata": {},
     "output_type": "execute_result"
    }
   ],
   "source": [
    "dados_treino = dados.loc[:4179]\n",
    "dados_teste = dados.loc[4180:num]\n",
    "\n",
    "dados_teste = dados_teste.Email.values\n",
    "\n",
    "Spam = dados_treino.Email[dados_treino.Class == 'spam'].values\n",
    "Ham = dados_treino.Email[dados_treino.Class == 'ham'].values\n",
    "\n",
    "Pspam = (dados_treino.Email[dados_treino.Class == 'spam'].count()/dados_treino.Email.count())*100\n",
    "Pham = (dados_treino.Email[dados_treino.Class == 'ham'].count()/dados_treino.Email.count())*100\n",
    "\n",
    "Pspam + Pham"
   ]
  },
  {
   "cell_type": "code",
   "execution_count": 7,
   "metadata": {
    "collapsed": true
   },
   "outputs": [],
   "source": [
    "spam_words = []\n",
    "ham_words = []\n",
    "i = 0\n",
    "while i < len(Spam):\n",
    "    word = Spam[i].split(' ')\n",
    "    for j in word:\n",
    "        spam_words.append(j)\n",
    "    i+=1"
   ]
  },
  {
   "cell_type": "code",
   "execution_count": 8,
   "metadata": {
    "collapsed": true
   },
   "outputs": [],
   "source": [
    "for i in Ham:\n",
    "    i = str(i)\n",
    "    word = i.split()\n",
    "    for j in word:\n",
    "        ham_words.append(j)"
   ]
  },
  {
   "cell_type": "code",
   "execution_count": 9,
   "metadata": {
    "collapsed": true
   },
   "outputs": [],
   "source": [
    "spam_dic = {}\n",
    "for i in spam_words:\n",
    "    n = 1\n",
    "    for j in spam_words:\n",
    "        if i == j:\n",
    "            n += 1\n",
    "        else:\n",
    "            pass\n",
    "    spam_dic[i] = n/len(spam_words)\n",
    "ham_dic = {}\n",
    "for i in ham_words:\n",
    "    n = 1\n",
    "    for j in ham_words:\n",
    "        if i == j:\n",
    "            n += 1\n",
    "        else:\n",
    "            pass\n",
    "    ham_dic[i] = n/len(ham_words)"
   ]
  },
  {
   "cell_type": "code",
   "execution_count": 19,
   "metadata": {
    "collapsed": true
   },
   "outputs": [],
   "source": [
    "def classificando(emails,spam,ham):\n",
    "    classificados = {}\n",
    "    for emailss in emails:\n",
    "        p = 0\n",
    "        email = emailss.split()\n",
    "        for w in email:\n",
    "            if w in spam:\n",
    "                p += spam[w]\n",
    "            if w in ham:\n",
    "                p -= ham[w]\n",
    "        if p > 0:\n",
    "            classificados[emailss] = 'SPAM'\n",
    "        elif p <= 0:\n",
    "            classificados[emailss] = 'HAM'\n",
    "        else:\n",
    "            pass\n",
    "    return classificados"
   ]
  },
  {
   "cell_type": "code",
   "execution_count": 11,
   "metadata": {
    "collapsed": true
   },
   "outputs": [],
   "source": [
    "teste = []\n",
    "for i in dados_teste:\n",
    "    teste.append(i)\n",
    "dados_teste = teste"
   ]
  },
  {
   "cell_type": "code",
   "execution_count": 21,
   "metadata": {},
   "outputs": [],
   "source": [
    "tudo_certo = classificando(dados_teste,spam_dic,ham_dic)"
   ]
  },
  {
   "cell_type": "code",
   "execution_count": 34,
   "metadata": {},
   "outputs": [],
   "source": [
    "results = []\n",
    "for i in dados_teste:\n",
    "    results.append(tudo_certo[i])"
   ]
  },
  {
   "cell_type": "code",
   "execution_count": 39,
   "metadata": {},
   "outputs": [],
   "source": [
    "df = pd.DataFrame({\n",
    "    'Class' : results,\n",
    "    'Emails' : dados_teste\n",
    "})"
   ]
  },
  {
   "cell_type": "code",
   "execution_count": 41,
   "metadata": {},
   "outputs": [
    {
     "data": {
      "text/html": [
       "<div>\n",
       "<style>\n",
       "    .dataframe thead tr:only-child th {\n",
       "        text-align: right;\n",
       "    }\n",
       "\n",
       "    .dataframe thead th {\n",
       "        text-align: left;\n",
       "    }\n",
       "\n",
       "    .dataframe tbody tr th {\n",
       "        vertical-align: top;\n",
       "    }\n",
       "</style>\n",
       "<table border=\"1\" class=\"dataframe\">\n",
       "  <thead>\n",
       "    <tr style=\"text-align: right;\">\n",
       "      <th></th>\n",
       "      <th>Class</th>\n",
       "      <th>Emails</th>\n",
       "    </tr>\n",
       "  </thead>\n",
       "  <tbody>\n",
       "    <tr>\n",
       "      <th>0</th>\n",
       "      <td>HAM</td>\n",
       "      <td>Can Ì send me a copy of da report</td>\n",
       "    </tr>\n",
       "    <tr>\n",
       "      <th>1</th>\n",
       "      <td>HAM</td>\n",
       "      <td>swhrt how u deyhope ur ok tot about u 2daylove...</td>\n",
       "    </tr>\n",
       "    <tr>\n",
       "      <th>2</th>\n",
       "      <td>HAM</td>\n",
       "      <td>Ok da i already planned I wil pick you</td>\n",
       "    </tr>\n",
       "    <tr>\n",
       "      <th>3</th>\n",
       "      <td>SPAM</td>\n",
       "      <td>Urgent Please call 0906346330 Your ABTA compli...</td>\n",
       "    </tr>\n",
       "    <tr>\n",
       "      <th>4</th>\n",
       "      <td>HAM</td>\n",
       "      <td>Sorry I'll call later in meeting</td>\n",
       "    </tr>\n",
       "    <tr>\n",
       "      <th>5</th>\n",
       "      <td>HAM</td>\n",
       "      <td>I just really need shit before tomorrow and I ...</td>\n",
       "    </tr>\n",
       "    <tr>\n",
       "      <th>6</th>\n",
       "      <td>HAM</td>\n",
       "      <td>I'm good Have you registered to vote</td>\n",
       "    </tr>\n",
       "    <tr>\n",
       "      <th>7</th>\n",
       "      <td>HAM</td>\n",
       "      <td>Hmm ok i'll stay for like an hour cos my eye i...</td>\n",
       "    </tr>\n",
       "    <tr>\n",
       "      <th>8</th>\n",
       "      <td>SPAM</td>\n",
       "      <td>Dear got bus directly to calicut</td>\n",
       "    </tr>\n",
       "    <tr>\n",
       "      <th>9</th>\n",
       "      <td>SPAM</td>\n",
       "      <td>Mm umma ask vava also to come tell him can pla...</td>\n",
       "    </tr>\n",
       "    <tr>\n",
       "      <th>10</th>\n",
       "      <td>HAM</td>\n",
       "      <td>Well the general price is ltgt oz let me know ...</td>\n",
       "    </tr>\n",
       "    <tr>\n",
       "      <th>11</th>\n",
       "      <td>SPAM</td>\n",
       "      <td>Sorry I'll call later</td>\n",
       "    </tr>\n",
       "    <tr>\n",
       "      <th>12</th>\n",
       "      <td>HAM</td>\n",
       "      <td>Each Moment in a dayhas its own valueMorning b...</td>\n",
       "    </tr>\n",
       "    <tr>\n",
       "      <th>13</th>\n",
       "      <td>HAM</td>\n",
       "      <td>ltgt w jetton ave if you forgot</td>\n",
       "    </tr>\n",
       "    <tr>\n",
       "      <th>14</th>\n",
       "      <td>HAM</td>\n",
       "      <td>Ok i'm coming home now</td>\n",
       "    </tr>\n",
       "    <tr>\n",
       "      <th>15</th>\n",
       "      <td>HAM</td>\n",
       "      <td>Can not use foreign stamps in this country</td>\n",
       "    </tr>\n",
       "    <tr>\n",
       "      <th>16</th>\n",
       "      <td>SPAM</td>\n",
       "      <td>Double mins and txts 4 6months FREE Bluetooth ...</td>\n",
       "    </tr>\n",
       "    <tr>\n",
       "      <th>17</th>\n",
       "      <td>SPAM</td>\n",
       "      <td>Sorry it's a lot of friendofafriend stuff I'm ...</td>\n",
       "    </tr>\n",
       "    <tr>\n",
       "      <th>18</th>\n",
       "      <td>SPAM</td>\n",
       "      <td>FREE for 1st week No1 Nokia tone 4 ur mob ever...</td>\n",
       "    </tr>\n",
       "    <tr>\n",
       "      <th>19</th>\n",
       "      <td>SPAM</td>\n",
       "      <td>Want to funk up ur fone with a weekly new tone...</td>\n",
       "    </tr>\n",
       "    <tr>\n",
       "      <th>20</th>\n",
       "      <td>HAM</td>\n",
       "      <td>cmon babe make me horny turn me on Txt me your...</td>\n",
       "    </tr>\n",
       "    <tr>\n",
       "      <th>21</th>\n",
       "      <td>HAM</td>\n",
       "      <td>I will come tomorrow di</td>\n",
       "    </tr>\n",
       "    <tr>\n",
       "      <th>22</th>\n",
       "      <td>SPAM</td>\n",
       "      <td>Wylie update my weed dealer carlos went to fre...</td>\n",
       "    </tr>\n",
       "    <tr>\n",
       "      <th>23</th>\n",
       "      <td>HAM</td>\n",
       "      <td>Are you happy baby  Are you alright  Did you t...</td>\n",
       "    </tr>\n",
       "    <tr>\n",
       "      <th>24</th>\n",
       "      <td>HAM</td>\n",
       "      <td>C movie is juz last minute decision mah Juz wa...</td>\n",
       "    </tr>\n",
       "    <tr>\n",
       "      <th>25</th>\n",
       "      <td>HAM</td>\n",
       "      <td>How are you enjoying this semester Take care b...</td>\n",
       "    </tr>\n",
       "    <tr>\n",
       "      <th>26</th>\n",
       "      <td>SPAM</td>\n",
       "      <td>IMPORTANT INFORMATION 4 ORANGE USER 0796XXXXXX...</td>\n",
       "    </tr>\n",
       "    <tr>\n",
       "      <th>27</th>\n",
       "      <td>HAM</td>\n",
       "      <td>Get the door I'm here</td>\n",
       "    </tr>\n",
       "    <tr>\n",
       "      <th>28</th>\n",
       "      <td>HAM</td>\n",
       "      <td>Lets use it next week princess</td>\n",
       "    </tr>\n",
       "    <tr>\n",
       "      <th>29</th>\n",
       "      <td>HAM</td>\n",
       "      <td>Or i go home first lar Ì wait 4 me lor I put d...</td>\n",
       "    </tr>\n",
       "    <tr>\n",
       "      <th>...</th>\n",
       "      <td>...</td>\n",
       "      <td>...</td>\n",
       "    </tr>\n",
       "    <tr>\n",
       "      <th>1364</th>\n",
       "      <td>SPAM</td>\n",
       "      <td>Armand says get your ass over to epsilon</td>\n",
       "    </tr>\n",
       "    <tr>\n",
       "      <th>1365</th>\n",
       "      <td>SPAM</td>\n",
       "      <td>U still havent got urself a jacket ah</td>\n",
       "    </tr>\n",
       "    <tr>\n",
       "      <th>1366</th>\n",
       "      <td>HAM</td>\n",
       "      <td>I'm taking derek amp taylor to walmart if I'm ...</td>\n",
       "    </tr>\n",
       "    <tr>\n",
       "      <th>1367</th>\n",
       "      <td>HAM</td>\n",
       "      <td>Hi its in durban are you still on this number</td>\n",
       "    </tr>\n",
       "    <tr>\n",
       "      <th>1368</th>\n",
       "      <td>SPAM</td>\n",
       "      <td>Ic There are a lotta childporn cars then</td>\n",
       "    </tr>\n",
       "    <tr>\n",
       "      <th>1369</th>\n",
       "      <td>SPAM</td>\n",
       "      <td>Had your contract mobile 11 Mnths Latest Motor...</td>\n",
       "    </tr>\n",
       "    <tr>\n",
       "      <th>1370</th>\n",
       "      <td>HAM</td>\n",
       "      <td>No I was trying it all weekend V</td>\n",
       "    </tr>\n",
       "    <tr>\n",
       "      <th>1371</th>\n",
       "      <td>HAM</td>\n",
       "      <td>You know wot people wear T shirts jumpers hat ...</td>\n",
       "    </tr>\n",
       "    <tr>\n",
       "      <th>1372</th>\n",
       "      <td>HAM</td>\n",
       "      <td>Cool what time you think you can get here</td>\n",
       "    </tr>\n",
       "    <tr>\n",
       "      <th>1373</th>\n",
       "      <td>HAM</td>\n",
       "      <td>Wen did you get so spiritual and deep That's g...</td>\n",
       "    </tr>\n",
       "    <tr>\n",
       "      <th>1374</th>\n",
       "      <td>SPAM</td>\n",
       "      <td>Have a safe trip to Nigeria Wish you happiness...</td>\n",
       "    </tr>\n",
       "    <tr>\n",
       "      <th>1375</th>\n",
       "      <td>SPAM</td>\n",
       "      <td>Hahahause your brain dear</td>\n",
       "    </tr>\n",
       "    <tr>\n",
       "      <th>1376</th>\n",
       "      <td>HAM</td>\n",
       "      <td>Well keep in mind I've only got enough gas for...</td>\n",
       "    </tr>\n",
       "    <tr>\n",
       "      <th>1377</th>\n",
       "      <td>SPAM</td>\n",
       "      <td>Yeh Indians was nice Tho it did kane me off a ...</td>\n",
       "    </tr>\n",
       "    <tr>\n",
       "      <th>1378</th>\n",
       "      <td>HAM</td>\n",
       "      <td>Yes i have So that's why u texted Pshewmissing...</td>\n",
       "    </tr>\n",
       "    <tr>\n",
       "      <th>1379</th>\n",
       "      <td>HAM</td>\n",
       "      <td>No I meant the calculation is the same That lt...</td>\n",
       "    </tr>\n",
       "    <tr>\n",
       "      <th>1380</th>\n",
       "      <td>SPAM</td>\n",
       "      <td>Sorry I'll call later</td>\n",
       "    </tr>\n",
       "    <tr>\n",
       "      <th>1381</th>\n",
       "      <td>HAM</td>\n",
       "      <td>if you aren't here in the next ltgt hours imma...</td>\n",
       "    </tr>\n",
       "    <tr>\n",
       "      <th>1382</th>\n",
       "      <td>HAM</td>\n",
       "      <td>Anything lor Juz both of us lor</td>\n",
       "    </tr>\n",
       "    <tr>\n",
       "      <th>1383</th>\n",
       "      <td>SPAM</td>\n",
       "      <td>Get me out of this dump heap My mom decided to...</td>\n",
       "    </tr>\n",
       "    <tr>\n",
       "      <th>1384</th>\n",
       "      <td>HAM</td>\n",
       "      <td>Ok lor Sony ericsson salesman I ask shuhui the...</td>\n",
       "    </tr>\n",
       "    <tr>\n",
       "      <th>1385</th>\n",
       "      <td>HAM</td>\n",
       "      <td>Ard 6 like dat lor</td>\n",
       "    </tr>\n",
       "    <tr>\n",
       "      <th>1386</th>\n",
       "      <td>HAM</td>\n",
       "      <td>Why don't you wait 'til at least wednesday to ...</td>\n",
       "    </tr>\n",
       "    <tr>\n",
       "      <th>1387</th>\n",
       "      <td>HAM</td>\n",
       "      <td>Huh y lei</td>\n",
       "    </tr>\n",
       "    <tr>\n",
       "      <th>1388</th>\n",
       "      <td>SPAM</td>\n",
       "      <td>REMINDER FROM O2 To get 250 pounds free call c...</td>\n",
       "    </tr>\n",
       "    <tr>\n",
       "      <th>1389</th>\n",
       "      <td>SPAM</td>\n",
       "      <td>This is the 2nd time we have tried 2 contact u...</td>\n",
       "    </tr>\n",
       "    <tr>\n",
       "      <th>1390</th>\n",
       "      <td>SPAM</td>\n",
       "      <td>Will Ì b going to esplanade fr home</td>\n",
       "    </tr>\n",
       "    <tr>\n",
       "      <th>1391</th>\n",
       "      <td>HAM</td>\n",
       "      <td>Pity  was in mood for that Soany other suggest...</td>\n",
       "    </tr>\n",
       "    <tr>\n",
       "      <th>1392</th>\n",
       "      <td>HAM</td>\n",
       "      <td>The guy did some bitching but I acted like i'd...</td>\n",
       "    </tr>\n",
       "    <tr>\n",
       "      <th>1393</th>\n",
       "      <td>SPAM</td>\n",
       "      <td>Rofl. Its true to its name</td>\n",
       "    </tr>\n",
       "  </tbody>\n",
       "</table>\n",
       "<p>1394 rows × 2 columns</p>\n",
       "</div>"
      ],
      "text/plain": [
       "     Class                                             Emails\n",
       "0      HAM                  Can Ì send me a copy of da report\n",
       "1      HAM  swhrt how u deyhope ur ok tot about u 2daylove...\n",
       "2      HAM             Ok da i already planned I wil pick you\n",
       "3     SPAM  Urgent Please call 0906346330 Your ABTA compli...\n",
       "4      HAM                   Sorry I'll call later in meeting\n",
       "5      HAM  I just really need shit before tomorrow and I ...\n",
       "6      HAM               I'm good Have you registered to vote\n",
       "7      HAM  Hmm ok i'll stay for like an hour cos my eye i...\n",
       "8     SPAM                   Dear got bus directly to calicut\n",
       "9     SPAM  Mm umma ask vava also to come tell him can pla...\n",
       "10     HAM  Well the general price is ltgt oz let me know ...\n",
       "11    SPAM                              Sorry I'll call later\n",
       "12     HAM  Each Moment in a dayhas its own valueMorning b...\n",
       "13     HAM                    ltgt w jetton ave if you forgot\n",
       "14     HAM                             Ok i'm coming home now\n",
       "15     HAM         Can not use foreign stamps in this country\n",
       "16    SPAM  Double mins and txts 4 6months FREE Bluetooth ...\n",
       "17    SPAM  Sorry it's a lot of friendofafriend stuff I'm ...\n",
       "18    SPAM  FREE for 1st week No1 Nokia tone 4 ur mob ever...\n",
       "19    SPAM  Want to funk up ur fone with a weekly new tone...\n",
       "20     HAM  cmon babe make me horny turn me on Txt me your...\n",
       "21     HAM                            I will come tomorrow di\n",
       "22    SPAM  Wylie update my weed dealer carlos went to fre...\n",
       "23     HAM  Are you happy baby  Are you alright  Did you t...\n",
       "24     HAM  C movie is juz last minute decision mah Juz wa...\n",
       "25     HAM  How are you enjoying this semester Take care b...\n",
       "26    SPAM  IMPORTANT INFORMATION 4 ORANGE USER 0796XXXXXX...\n",
       "27     HAM                              Get the door I'm here\n",
       "28     HAM                    Lets use it next week princess \n",
       "29     HAM  Or i go home first lar Ì wait 4 me lor I put d...\n",
       "...    ...                                                ...\n",
       "1364  SPAM           Armand says get your ass over to epsilon\n",
       "1365  SPAM              U still havent got urself a jacket ah\n",
       "1366   HAM  I'm taking derek amp taylor to walmart if I'm ...\n",
       "1367   HAM      Hi its in durban are you still on this number\n",
       "1368  SPAM           Ic There are a lotta childporn cars then\n",
       "1369  SPAM  Had your contract mobile 11 Mnths Latest Motor...\n",
       "1370   HAM                   No I was trying it all weekend V\n",
       "1371   HAM  You know wot people wear T shirts jumpers hat ...\n",
       "1372   HAM          Cool what time you think you can get here\n",
       "1373   HAM  Wen did you get so spiritual and deep That's g...\n",
       "1374  SPAM  Have a safe trip to Nigeria Wish you happiness...\n",
       "1375  SPAM                          Hahahause your brain dear\n",
       "1376   HAM  Well keep in mind I've only got enough gas for...\n",
       "1377  SPAM  Yeh Indians was nice Tho it did kane me off a ...\n",
       "1378   HAM  Yes i have So that's why u texted Pshewmissing...\n",
       "1379   HAM  No I meant the calculation is the same That lt...\n",
       "1380  SPAM                              Sorry I'll call later\n",
       "1381   HAM  if you aren't here in the next ltgt hours imma...\n",
       "1382   HAM                    Anything lor Juz both of us lor\n",
       "1383  SPAM  Get me out of this dump heap My mom decided to...\n",
       "1384   HAM  Ok lor Sony ericsson salesman I ask shuhui the...\n",
       "1385   HAM                                 Ard 6 like dat lor\n",
       "1386   HAM  Why don't you wait 'til at least wednesday to ...\n",
       "1387   HAM                                          Huh y lei\n",
       "1388  SPAM  REMINDER FROM O2 To get 250 pounds free call c...\n",
       "1389  SPAM  This is the 2nd time we have tried 2 contact u...\n",
       "1390  SPAM                Will Ì b going to esplanade fr home\n",
       "1391   HAM  Pity  was in mood for that Soany other suggest...\n",
       "1392   HAM  The guy did some bitching but I acted like i'd...\n",
       "1393  SPAM                         Rofl. Its true to its name\n",
       "\n",
       "[1394 rows x 2 columns]"
      ]
     },
     "execution_count": 41,
     "metadata": {},
     "output_type": "execute_result"
    }
   ],
   "source": [
    "df"
   ]
  },
  {
   "cell_type": "code",
   "execution_count": 50,
   "metadata": {},
   "outputs": [],
   "source": [
    "dados_reais = dados.loc[4180:num]"
   ]
  },
  {
   "cell_type": "code",
   "execution_count": null,
   "metadata": {
    "collapsed": true
   },
   "outputs": [],
   "source": [
    "def comparar(reais,sol):\n",
    "    certo_spam = 0 #Era SPAM e o bot acertou\n",
    "    certo_ham = 0 #Era HAM e o bot acertou\n",
    "    errado_spam =  0 #Era SPAM e o bot errou\n",
    "    errado_ham = 0 #Era HAM e o bot errou\n",
    "    \n",
    "    for i in range(len(reais.count())):\n",
    "        "
   ]
  },
  {
   "cell_type": "markdown",
   "metadata": {},
   "source": [
    "___\n",
    "## 4. Curva ROC"
   ]
  },
  {
   "cell_type": "code",
   "execution_count": null,
   "metadata": {
    "collapsed": true
   },
   "outputs": [],
   "source": []
  },
  {
   "cell_type": "code",
   "execution_count": null,
   "metadata": {
    "collapsed": true
   },
   "outputs": [],
   "source": []
  },
  {
   "cell_type": "code",
   "execution_count": null,
   "metadata": {
    "collapsed": true
   },
   "outputs": [],
   "source": []
  },
  {
   "cell_type": "markdown",
   "metadata": {},
   "source": [
    "___\n",
    "## 5. Qualidade do Classificador alterando a base de treinamento"
   ]
  },
  {
   "cell_type": "code",
   "execution_count": null,
   "metadata": {
    "collapsed": true
   },
   "outputs": [],
   "source": []
  },
  {
   "cell_type": "code",
   "execution_count": null,
   "metadata": {
    "collapsed": true
   },
   "outputs": [],
   "source": []
  },
  {
   "cell_type": "code",
   "execution_count": null,
   "metadata": {
    "collapsed": true
   },
   "outputs": [],
   "source": []
  },
  {
   "cell_type": "code",
   "execution_count": null,
   "metadata": {
    "collapsed": true
   },
   "outputs": [],
   "source": []
  }
 ],
 "metadata": {
  "anaconda-cloud": {},
  "kernelspec": {
   "display_name": "Python 3",
   "language": "python",
   "name": "python3"
  },
  "language_info": {
   "codemirror_mode": {
    "name": "ipython",
    "version": 3
   },
   "file_extension": ".py",
   "mimetype": "text/x-python",
   "name": "python",
   "nbconvert_exporter": "python",
   "pygments_lexer": "ipython3",
   "version": "3.6.3"
  }
 },
 "nbformat": 4,
 "nbformat_minor": 1
}
