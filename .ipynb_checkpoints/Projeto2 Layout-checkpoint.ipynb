{
 "cells": [
  {
   "cell_type": "markdown",
   "metadata": {},
   "source": [
    "___\n",
    "# Ciência dos Dados - PROJETO 2"
   ]
  },
  {
   "cell_type": "markdown",
   "metadata": {},
   "source": [
    "___\n",
    "## Nome 1 João Pedro Montefeltro Junqueira Meirelles\n",
    "\n",
    "## Nome 2 Ester dos Santos Quintino\n",
    "\n",
    "___"
   ]
  },
  {
   "cell_type": "markdown",
   "metadata": {},
   "source": [
    "___\n",
    "\n",
    "## 1. Problema\n",
    "\n",
    "O Classificador Naive-Bayes, o qual se baseia no uso do teorema de Bayes, é largamente utilizado em filtros anti-spam de e-mails. O classificador permite calcular qual a probabilidade de uma mensagem ser SPAM considerando as palavras em seu conteúdo e, de forma complementar, permite calcular a probabilidade de uma mensagem ser HAM dada as palavras descritas na mensagem.\n",
    "\n",
    "Para realizar o MVP (minimum viable product) do projeto, você precisa programar uma versão do classificador que \"aprende\" o que é uma mensagem SPAM considerando uma base de treinamento e comparar o desempenho dos resultados com uma base de testes. \n"
   ]
  },
  {
   "cell_type": "markdown",
   "metadata": {},
   "source": [
    "___\n",
    "## 2. Separação da base de dados em Treinamento e Teste\n",
    "\n",
    "A base de dados deve ser separada em duas partes, aleatoriamente, considerando: \n",
    "    \n",
    "    75% dos dados para a parte Treinamento; e\n",
    "    25% dos dados para a parte Teste."
   ]
  },
  {
   "cell_type": "code",
   "execution_count": 1,
   "metadata": {
    "collapsed": true
   },
   "outputs": [],
   "source": [
    "import pandas as pd\n",
    "import numpy as np\n",
    "import matplotlib.pyplot as jeca\n",
    "import os"
   ]
  },
  {
   "cell_type": "code",
   "execution_count": 2,
   "metadata": {},
   "outputs": [
    {
     "name": "stdout",
     "output_type": "stream",
     "text": [
      "Esperamos trabalhar no diretório\n",
      "C:\\Users\\1513 IRON\\Desktop\\insper\\Semestre 2 DP\\Ciencia dos Dados\\CDDP-P2\n"
     ]
    }
   ],
   "source": [
    "print('Esperamos trabalhar no diretório')\n",
    "print(os.getcwd())"
   ]
  },
  {
   "cell_type": "markdown",
   "metadata": {},
   "source": [
    "# Lendo a base de dados"
   ]
  },
  {
   "cell_type": "code",
   "execution_count": 3,
   "metadata": {
    "collapsed": true
   },
   "outputs": [],
   "source": [
    "dados = pd.read_excel('spamham.xlsx')\n",
    "dados = dados.iloc[np.random.permutation(len(dados))]"
   ]
  },
  {
   "cell_type": "code",
   "execution_count": 4,
   "metadata": {
    "collapsed": true
   },
   "outputs": [],
   "source": [
    "num = len(dados.Email)\n",
    "setenta_cinco = int(num*0.75)"
   ]
  },
  {
   "cell_type": "markdown",
   "metadata": {},
   "source": [
    "___\n",
    "## 3. Classificador Naive-Bayes"
   ]
  },
  {
   "cell_type": "markdown",
   "metadata": {},
   "source": [
    "# Limpeza das mensagens e remoção dos caracteres que não afetam a classificação"
   ]
  },
  {
   "cell_type": "code",
   "execution_count": 5,
   "metadata": {},
   "outputs": [
    {
     "data": {
      "text/plain": [
       "3560    Text BANNEDUK to 89555 to see cost 150p textop...\n",
       "4291                                                  GWR\n",
       "4107                         Pls send me your address sir\n",
       "5102    This msg is for your mobile content order It h...\n",
       "3595                 Good morning princess Happy New Year\n",
       "4194    Double mins and txts 4 6months FREE Bluetooth ...\n",
       "2839    BABE  I miiiiiiissssssssss you  I need you  I ...\n",
       "4502                               Stupidits not possible\n",
       "2630    URGENT Your mobile No 077xxx WON a å£2000 Bonu...\n",
       "4139    Leave it wif me lar ÌÏ wan to carry meh so hea...\n",
       "5495    Good afternoon my love  How goes your day  How...\n",
       "5238                     Yeah I can still give you a ride\n",
       "43                                     WHO ARE YOU SEEING\n",
       "383                 Hey i will be late ah Meet you at 945\n",
       "3703                  Kent vale lor ÌÏ wait 4 me there ar\n",
       "4440    I'm going 2 orchard now laready me reaching so...\n",
       "105     Thanks a lot for your wishes on my birthday Th...\n",
       "1730    Lol Well quality aint bad at all so i aint com...\n",
       "4959                      I want ltgt rs dado you have it\n",
       "2932    Yo do you know anyone ltgt or otherwise able t...\n",
       "4981     Slept I thinkThis time  ltgt pm is not dangerous\n",
       "3782                        Can you do online transaction\n",
       "4509    This weekend is fine an excuse not to do too m...\n",
       "1062    Ok Not sure what time tho as not sure if can g...\n",
       "799                    \\Gimme a few\\ was ltgt minutes ago\n",
       "2785    cThen i thk shd b enuff Still got conclusion n...\n",
       "4330                            Nope i'll come online now\n",
       "4234    FREEMSG Our records indicate you may be entitl...\n",
       "1884    I think asking for a gym is the excuse for laz...\n",
       "3972                         Night night see you tomorrow\n",
       "                              ...                        \n",
       "3231    Guess he wants alone time We could just show u...\n",
       "1715    Sorry about earlier Putting out firesAre you a...\n",
       "4461    Sorry I flaked last night shit's seriously goi...\n",
       "2040                  ÌÏ dun wan to watch infernal affair\n",
       "3917    No need to ke qi ÌÏ too bored izzit y suddenly...\n",
       "2675     Am on a train back from northampton so i'm af...\n",
       "4862    Bored housewives Chat n date now 08717507711 B...\n",
       "4908                              Will do Have a good day\n",
       "1777    7 wonders in My WORLD 7th You 6th Ur style 5th...\n",
       "2440    Back in brum Thanks for putting us up and keep...\n",
       "4709    Ya i knw u vl givits ok thanks kanoanyway enjo...\n",
       "5294    XMAS iscoming  ur awarded either å£500 CD gift...\n",
       "2197                         I'm in a movie Call me 4 wat\n",
       "4040    Please call our customer service representativ...\n",
       "3670                          Yup Thk of u oso boring wat\n",
       "232                      Sorry battery died yeah I'm here\n",
       "2977    Yar lor Keep raining non stop Or u wan 2 go el...\n",
       "4110    URGENT Your Mobile number has been awarded a <...\n",
       "2085                   Dude how do you like the buff wind\n",
       "5430    If you can make it any time tonight or wheneve...\n",
       "3627    Meeting u is my work   Tel me when shall i do ...\n",
       "4866               Okey dokey swashbuckling stuff what oh\n",
       "258     We tried to contact you re your reply to our o...\n",
       "3609    Call me I m unable to cal Lets meet bhaskar an...\n",
       "4820               Im good I have been thinking about you\n",
       "2706    Great NEW Offer  DOUBLE Mins  DOUBLE Txt on be...\n",
       "1692    Was gr8 to see that message So when r u leavin...\n",
       "746     I promise to take good care of you princess I ...\n",
       "4627    Todays Voda numbers ending with 7634 are selec...\n",
       "11      SIX chances to win CASH From 100 to 20000 poun...\n",
       "Name: Email, Length: 5572, dtype: object"
      ]
     },
     "execution_count": 5,
     "metadata": {},
     "output_type": "execute_result"
    }
   ],
   "source": [
    "arranca = [':','!','?',',','\"','/',';','.','-','_','=','+','(',')','*','@','#','$','%','§','&']\n",
    "for i in range(num):\n",
    "    dados.Email[i:i+1] = dados.Email[i:i+1].str.replace('  ',' ') # Mudança de 2 espaços para 1\n",
    "    for j in arranca:\n",
    "        dados.Email[i:i+1] = dados.Email[i:i+1].str.replace(j,'') \n",
    "\n",
    "dados.Email"
   ]
  },
  {
   "cell_type": "markdown",
   "metadata": {},
   "source": [
    "# Separação da base de dados em Treinamento e Teste na fração 3 para 1."
   ]
  },
  {
   "cell_type": "code",
   "execution_count": 6,
   "metadata": {
    "collapsed": true
   },
   "outputs": [],
   "source": [
    "#75% dos dados para a parte Treinamento.\n",
    "#25% dos dados para a parte Teste.\n",
    "\n",
    "dados_treino = dados.iloc[:setenta_cinco]\n",
    "dados_teste = dados.iloc[setenta_cinco:num]\n",
    "dados_reais = dados.iloc[setenta_cinco:num]\n"
   ]
  },
  {
   "cell_type": "markdown",
   "metadata": {},
   "source": [
    "# Probabilidade de  uma mensagem ser SPAM e Probabilidade de uma mensagem ser HAM"
   ]
  },
  {
   "cell_type": "code",
   "execution_count": 7,
   "metadata": {
    "collapsed": true
   },
   "outputs": [],
   "source": [
    "dados_teste = dados_teste.Email.values #Values retorna uma lista com os emails.\n",
    "\n",
    "Spam = dados_treino.Email[dados_treino.Class == 'spam'].values\n",
    "Ham = dados_treino.Email[dados_treino.Class == 'ham'].values\n",
    "\n",
    "# Probabilidade de uma mensagem ser SPAM:\n",
    "\n",
    "Pspam = (dados_treino.Email[dados_treino.Class == 'spam'].count()/dados_treino.Email.count())*100\n",
    "\n",
    "# Probabilidade de uma mensagem ser HAM:\n",
    "\n",
    "Pham = (dados_treino.Email[dados_treino.Class == 'ham'].count()/dados_treino.Email.count())*100"
   ]
  },
  {
   "cell_type": "markdown",
   "metadata": {},
   "source": [
    "# Criação de uma lista que armazena as palavras do email"
   ]
  },
  {
   "cell_type": "code",
   "execution_count": 8,
   "metadata": {},
   "outputs": [],
   "source": [
    "#SPAM\n",
    "spam_words = []\n",
    "ham_words = []\n",
    "i = 0\n",
    "while i < len(Spam):\n",
    "    word = Spam[i].split()\n",
    "    for j in word:\n",
    "        if j.isdigit == True:\n",
    "            pass\n",
    "        if len(j) <= 3:\n",
    "            pass\n",
    "        else:\n",
    "            spam_words.append(j)\n",
    "    i+=1"
   ]
  },
  {
   "cell_type": "code",
   "execution_count": null,
   "metadata": {
    "collapsed": true
   },
   "outputs": [],
   "source": [
    "#HAM\n",
    "i = 0\n",
    "while i < len(Ham):\n",
    "    word = Ham[i].split()\n",
    "    for j in word:\n",
    "        if j.isdigit == True:\n",
    "            pass\n",
    "        if len(j) <= 3:\n",
    "            pass\n",
    "        else:\n",
    "            ham_words.append(j)\n",
    "    i+=1"
   ]
  },
  {
   "cell_type": "markdown",
   "metadata": {},
   "source": [
    "# Criação de um dicionário "
   ]
  },
  {
   "cell_type": "code",
   "execution_count": null,
   "metadata": {
    "collapsed": true
   },
   "outputs": [],
   "source": [
    "spam_dic = {}\n",
    "for i in spam_words:\n",
    "    n = 1\n",
    "    if i in spam_dic:\n",
    "        pass\n",
    "    else:   \n",
    "        for j in spam_words:\n",
    "            if i == j:\n",
    "                n += 1\n",
    "            else:\n",
    "                pass\n",
    "        spam_dic[i] = (n + 1)/(len(spam_words)*2 + len(ham_words))\n",
    "ham_dic = {}\n",
    "for i in ham_words:\n",
    "    n = 1\n",
    "    if i in ham_dic:\n",
    "        pass\n",
    "    else:   \n",
    "        for j in ham_words:\n",
    "            if i == j:\n",
    "                n += 1\n",
    "            else:\n",
    "                pass\n",
    "        ham_dic[i] = (n + 1)/(len(ham_words)*2 + len(spam_words))"
   ]
  },
  {
   "cell_type": "markdown",
   "metadata": {},
   "source": [
    "# CLassificação"
   ]
  },
  {
   "cell_type": "code",
   "execution_count": null,
   "metadata": {
    "collapsed": true
   },
   "outputs": [],
   "source": [
    "def classificando(emails,spam,ham,Pspam,Pham):\n",
    "    classificados = {} #Devolve se o email é SPAM ou se o email é HAM\n",
    "    for emailss in emails:\n",
    "        pspam = 1*Pspam\n",
    "        pham = 1*Pham\n",
    "        email = str(emailss).split()\n",
    "        \n",
    "        for w in email: #probabilidade de uma palavra acontecer se a mensagem na base treinamento é considerada SPAM e HAM.\n",
    "            if w in spam:\n",
    "                pspam = pspam*spam[w]\n",
    "            if w in ham:\n",
    "                pham = pham*ham[w]\n",
    "        if pspam > pham:\n",
    "            classificados[emailss] = 'spam'\n",
    "        elif pspam <= pham:\n",
    "            classificados[emailss] = 'ham'\n",
    "    return classificados"
   ]
  },
  {
   "cell_type": "code",
   "execution_count": null,
   "metadata": {
    "collapsed": true
   },
   "outputs": [],
   "source": [
    "# Reestruturação dos dados teste\n",
    "teste = []\n",
    "for i in dados_teste:\n",
    "    teste.append(i)\n",
    "dados_teste = teste"
   ]
  },
  {
   "cell_type": "code",
   "execution_count": null,
   "metadata": {},
   "outputs": [],
   "source": [
    "#Guardando classificados e probabilidades em variáveis\n",
    "tudo_certo = classificando(dados_teste,spam_dic,ham_dic,Pspam,Pham)\n",
    "tudo_certo"
   ]
  },
  {
   "cell_type": "code",
   "execution_count": null,
   "metadata": {
    "collapsed": true
   },
   "outputs": [],
   "source": [
    "# Lista com apenas spam's e ham's\n",
    "results = []\n",
    "for i in dados_teste:\n",
    "    results.append(tudo_certo[i])"
   ]
  },
  {
   "cell_type": "code",
   "execution_count": null,
   "metadata": {
    "collapsed": true
   },
   "outputs": [],
   "source": [
    "df_meus = pd.DataFrame({\n",
    "    'Class' : results,\n",
    "    'Emails' : dados_teste\n",
    "})"
   ]
  },
  {
   "cell_type": "code",
   "execution_count": null,
   "metadata": {},
   "outputs": [],
   "source": [
    "valores_reais = dados_reais.Class.values"
   ]
  },
  {
   "cell_type": "code",
   "execution_count": null,
   "metadata": {},
   "outputs": [],
   "source": [
    "df_comp = pd.DataFrame({\n",
    "    'Minhas' : results,\n",
    "    'Reais' : valores_reais\n",
    "})"
   ]
  },
  {
   "cell_type": "code",
   "execution_count": null,
   "metadata": {},
   "outputs": [],
   "source": [
    "# % de acertos\n",
    "spam_spam = df_comp.Minhas[(df_comp.Minhas == 'spam') & (df_comp.Reais == 'spam')].count()\n",
    "spam_ham = df_comp.Minhas[(df_comp.Minhas == 'spam') & (df_comp.Reais == 'ham')].count()\n",
    "ham_ham = df_comp.Minhas[(df_comp.Minhas == 'ham') & (df_comp.Reais == 'ham')].count()\n",
    "ham_spam = df_comp.Minhas[(df_comp.Minhas == 'ham') & (df_comp.Reais == 'spam')].count()"
   ]
  },
  {
   "cell_type": "code",
   "execution_count": null,
   "metadata": {
    "collapsed": true
   },
   "outputs": [],
   "source": []
  },
  {
   "cell_type": "code",
   "execution_count": null,
   "metadata": {},
   "outputs": [],
   "source": [
    "print(pd.crosstab(df_comp.Reais,df_comp.Minhas))"
   ]
  },
  {
   "cell_type": "markdown",
   "metadata": {},
   "source": [
    "# Testando o Classificador"
   ]
  },
  {
   "cell_type": "code",
   "execution_count": null,
   "metadata": {
    "collapsed": true
   },
   "outputs": [],
   "source": []
  },
  {
   "cell_type": "code",
   "execution_count": null,
   "metadata": {},
   "outputs": [],
   "source": []
  },
  {
   "cell_type": "code",
   "execution_count": null,
   "metadata": {
    "collapsed": true
   },
   "outputs": [],
   "source": []
  },
  {
   "cell_type": "markdown",
   "metadata": {},
   "source": [
    "# Printando o teste com os dados reais\n",
    "for i in range(len(dados_reais)):\n",
    "    print(str(dados_reais.Class[i:i+1].values) + ',' + str(df.Class[i:i+1].values))\n",
    "    if dados_reais.Class[i:i+1].values == df.Class[i:i+1].values:\n",
    "        print('True')\n",
    "    elif dados_reais.Class[i:i+1].values != df.Class[i:i+1].values:\n",
    "        print('False')"
   ]
  },
  {
   "cell_type": "markdown",
   "metadata": {},
   "source": [
    "## 4. Curva ROC"
   ]
  },
  {
   "cell_type": "code",
   "execution_count": null,
   "metadata": {
    "collapsed": true
   },
   "outputs": [],
   "source": []
  },
  {
   "cell_type": "code",
   "execution_count": null,
   "metadata": {
    "collapsed": true
   },
   "outputs": [],
   "source": []
  },
  {
   "cell_type": "code",
   "execution_count": null,
   "metadata": {
    "collapsed": true
   },
   "outputs": [],
   "source": []
  },
  {
   "cell_type": "markdown",
   "metadata": {},
   "source": [
    "___\n",
    "## 5. Qualidade do Classificador alterando a base de treinamento"
   ]
  },
  {
   "cell_type": "markdown",
   "metadata": {},
   "source": [
    "lista_sc = []\n",
    "lista_hc = []\n",
    "lista_se = []\n",
    "lista_he = []\n",
    "def bayes(dados):\n",
    "    dados = dados.iloc[np.random.permutation(len(dados))]\n",
    "    \n",
    "    arranca = [':','!','?',',','\"','/',';','.','-','_','=','+','(',')','*','@','#','$','%','§','&']\n",
    "    for i in range(num):\n",
    "        dados.Email[i:i+1] = dados.Email[i:i+1].str.replace('  ',' ') #Dois espacos por 1\n",
    "        for j in arranca:\n",
    "            dados.Email[i:i+1] = dados.Email[i:i+1].str.replace(j,'')\n",
    "    dados_treino = dados.loc[:4179]\n",
    "    dados_teste = dados.loc[4180:num]\n",
    "    dados_reais = dados.loc[4180:num]\n",
    "\n",
    "    dados_teste = dados_teste.Email.values\n",
    "\n",
    "    Spam = dados_treino.Email[dados_treino.Class == 'spam'].values\n",
    "    Ham = dados_treino.Email[dados_treino.Class == 'ham'].values\n",
    "    \n",
    "    spam_words = []\n",
    "    ham_words = []\n",
    "    i = 0\n",
    "    while i < len(Spam):\n",
    "        word = Spam[i].split()\n",
    "        for j in word:\n",
    "            spam_words.append(j)\n",
    "        i+=1\n",
    "    i = 0\n",
    "    while i < len(Ham):\n",
    "        word = Ham[i].split()\n",
    "        for j in word:\n",
    "            ham_words.append(j)\n",
    "        i+=1\n",
    "    spam_dic = {}\n",
    "    for i in spam_words:\n",
    "        n = 1\n",
    "        for j in spam_words:\n",
    "            if i == j:\n",
    "                n += 1\n",
    "            else:\n",
    "                pass\n",
    "        spam_dic[i] = n/len(spam_words)\n",
    "    ham_dic = {}\n",
    "    for i in ham_words:\n",
    "        n = 1\n",
    "        for j in ham_words:\n",
    "            if i == j:\n",
    "                n += 1\n",
    "            else:\n",
    "                pass\n",
    "        ham_dic[i] = n/len(ham_words)\n",
    "    teste = []\n",
    "    for i in dados_teste:\n",
    "        teste.append(i)\n",
    "    dados_teste = teste\n",
    "    tudo_certo, p = classificando(dados_teste,spam_dic,ham_dic)\n",
    "    \n",
    "    results = []\n",
    "    for i in dados_teste:\n",
    "        results.append(tudo_certo[i])\n",
    "        \n",
    "    df = pd.DataFrame({\n",
    "        'Class' : results,\n",
    "        'Emails' : dados_teste\n",
    "    })\n",
    "    \n",
    "    sc, hc, se, he = comparar(dados_reais,df)\n",
    "    return sc, hc, se, he"
   ]
  },
  {
   "cell_type": "markdown",
   "metadata": {},
   "source": [
    "i = 0\n",
    "while i < 10000:\n",
    "    sc, hc, se, he = bayes(dados)\n",
    "    lista_sc.append(sc)\n",
    "    lista_hc.append(hc)\n",
    "    lista_se.append(se)\n",
    "    lista_he.append(he)\n",
    "    i += 1"
   ]
  },
  {
   "cell_type": "code",
   "execution_count": null,
   "metadata": {
    "collapsed": true
   },
   "outputs": [],
   "source": []
  },
  {
   "cell_type": "code",
   "execution_count": null,
   "metadata": {
    "collapsed": true
   },
   "outputs": [],
   "source": []
  }
 ],
 "metadata": {
  "anaconda-cloud": {},
  "kernelspec": {
   "display_name": "Python 3",
   "language": "python",
   "name": "python3"
  },
  "language_info": {
   "codemirror_mode": {
    "name": "ipython",
    "version": 3
   },
   "file_extension": ".py",
   "mimetype": "text/x-python",
   "name": "python",
   "nbconvert_exporter": "python",
   "pygments_lexer": "ipython3",
   "version": "3.6.3"
  }
 },
 "nbformat": 4,
 "nbformat_minor": 1
}
