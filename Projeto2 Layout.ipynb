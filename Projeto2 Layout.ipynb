{
 "cells": [
  {
   "cell_type": "markdown",
   "metadata": {},
   "source": [
    "___\n",
    "# Ciência dos Dados - PROJETO 2"
   ]
  },
  {
   "cell_type": "markdown",
   "metadata": {},
   "source": [
    "___\n",
    "## Nome 1 João Pedro Montefeltro Junqueira Meirelles\n",
    "\n",
    "## Nome 2 Ester Quintino\n",
    "\n",
    "___"
   ]
  },
  {
   "cell_type": "markdown",
   "metadata": {},
   "source": [
    "___\n",
    "\n",
    "## 1. Problema\n",
    "\n",
    "O Classificador Naive-Bayes, o qual se baseia no uso do teorema de Bayes, é largamente utilizado em filtros anti-spam de e-mails. O classificador permite calcular qual a probabilidade de uma mensagem ser SPAM considerando as palavras em seu conteúdo e, de forma complementar, permite calcular a probabilidade de uma mensagem ser HAM dada as palavras descritas na mensagem.\n",
    "\n",
    "Para realizar o MVP (minimum viable product) do projeto, você precisa programar uma versão do classificador que \"aprende\" o que é uma mensagem SPAM considerando uma base de treinamento e comparar o desempenho dos resultados com uma base de testes. \n"
   ]
  },
  {
   "cell_type": "markdown",
   "metadata": {},
   "source": [
    "___\n",
    "## 2. Separação da base de dados em Treinamento e Teste\n",
    "\n",
    "A base de dados deve ser separada em duas partes, aleatoriamente, considerando: \n",
    "    \n",
    "    75% dos dados para a parte Treinamento; e\n",
    "    25% dos dados para a parte Teste."
   ]
  },
  {
   "cell_type": "code",
   "execution_count": 1,
   "metadata": {
    "collapsed": true
   },
   "outputs": [],
   "source": [
    "import pandas as pd\n",
    "import os"
   ]
  },
  {
   "cell_type": "code",
   "execution_count": 2,
   "metadata": {},
   "outputs": [
    {
     "name": "stdout",
     "output_type": "stream",
     "text": [
      "Esperamos trabalhar no diretório\n",
      "C:\\Users\\1513 IRON\\Desktop\\insper\\Semestre 2 DP\\Ciencia dos Dados\\CDDP-P2\n"
     ]
    }
   ],
   "source": [
    "print('Esperamos trabalhar no diretório')\n",
    "print(os.getcwd())"
   ]
  },
  {
   "cell_type": "code",
   "execution_count": 3,
   "metadata": {},
   "outputs": [],
   "source": [
    "dados = pd.read_excel('spamham.xlsx')"
   ]
  },
  {
   "cell_type": "code",
   "execution_count": 4,
   "metadata": {
    "collapsed": true
   },
   "outputs": [],
   "source": [
    "num = dados.Email.count()"
   ]
  },
  {
   "cell_type": "markdown",
   "metadata": {
    "collapsed": true
   },
   "source": [
    "##### Sepraração dps da limpeza"
   ]
  },
  {
   "cell_type": "markdown",
   "metadata": {},
   "source": [
    "___\n",
    "## 3. Classificador Naive-Bayes"
   ]
  },
  {
   "cell_type": "code",
   "execution_count": null,
   "metadata": {
    "collapsed": true
   },
   "outputs": [],
   "source": []
  },
  {
   "cell_type": "code",
   "execution_count": 9,
   "metadata": {},
   "outputs": [
    {
     "data": {
      "text/plain": [
       "0       Go until jurong point crazy Available only in ...\n",
       "1                                 Ok lar Joking wif u oni\n",
       "2       Free entry in 2 a wkly comp to win FA Cup fina...\n",
       "3             U dun say so early hor U c already then say\n",
       "4       Nah I don't think he goes to usf he lives arou...\n",
       "5       FreeMsg Hey there darling it's been 3 week's n...\n",
       "6       Even my brother is not like to speak with me T...\n",
       "7       As per your request 'Melle Melle Oru Minnaminu...\n",
       "8       WINNER As a valued network customer you have b...\n",
       "9       Had your mobile 11 months or more U R entitled...\n",
       "10      I'm gonna be home soon and i don't want to tal...\n",
       "11      SIX chances to win CASH From 100 to 20000 poun...\n",
       "12      URGENT You have won a 1 week FREE membership i...\n",
       "13      I've been searching for the right words to tha...\n",
       "14                      I HAVE A DATE ON SUNDAY WITH WILL\n",
       "15      XXXMobileMovieClub To use your credit click th...\n",
       "16                                  Oh ki'm watching here\n",
       "17      Eh u remember how 2 spell his name Yes i did H...\n",
       "18      Fine if thatåÕs the way u feel ThatåÕs the way...\n",
       "19      England v Macedonia dont miss the goalsteam ne...\n",
       "20               Is that seriously how you spell his name\n",
       "21      I‰Û÷m going to try for 2 months ha ha only joking\n",
       "22         So Ì pay first lar Then when is da stock comin\n",
       "23      Aft i finish my lunch then i go str down lor A...\n",
       "24      Ffffffffff Alright no way I can meet up with y...\n",
       "25      Just forced myself to eat a slice I'm really n...\n",
       "26                          Lol your always so convincing\n",
       "27      Did you catch the bus Are you frying an egg Di...\n",
       "28      I'm back amp we're packing the car now I'll le...\n",
       "29      Ahhh Work I vaguely remember that What does it...\n",
       "                              ...                        \n",
       "5544             Armand says get your ass over to epsilon\n",
       "5545                U still havent got urself a jacket ah\n",
       "5546    I'm taking derek amp taylor to walmart if I'm ...\n",
       "5547        Hi its in durban are you still on this number\n",
       "5548             Ic There are a lotta childporn cars then\n",
       "5549    Had your contract mobile 11 Mnths Latest Motor...\n",
       "5550                     No I was trying it all weekend V\n",
       "5551    You know wot people wear T shirts jumpers hat ...\n",
       "5552            Cool what time you think you can get here\n",
       "5553    Wen did you get so spiritual and deep That's g...\n",
       "5554    Have a safe trip to Nigeria Wish you happiness...\n",
       "5555                            Hahahause your brain dear\n",
       "5556    Well keep in mind I've only got enough gas for...\n",
       "5557    Yeh Indians was nice Tho it did kane me off a ...\n",
       "5558    Yes i have So that's why u texted Pshewmissing...\n",
       "5559    No I meant the calculation is the same That lt...\n",
       "5560                                Sorry I'll call later\n",
       "5561    if you aren't here in the next ltgt hours imma...\n",
       "5562                      Anything lor Juz both of us lor\n",
       "5563    Get me out of this dump heap My mom decided to...\n",
       "5564    Ok lor Sony ericsson salesman I ask shuhui the...\n",
       "5565                                   Ard 6 like dat lor\n",
       "5566    Why don't you wait 'til at least wednesday to ...\n",
       "5567                                            Huh y lei\n",
       "5568    REMINDER FROM O2 To get 250 pounds free call c...\n",
       "5569    This is the 2nd time we have tried 2 contact u...\n",
       "5570                  Will Ì b going to esplanade fr home\n",
       "5571    Pity was in mood for that Soany other suggestions\n",
       "5572    The guy did some bitching but I acted like i'd...\n",
       "5573                           Rofl. Its true to its name\n",
       "Name: Email, Length: 5574, dtype: object"
      ]
     },
     "execution_count": 9,
     "metadata": {},
     "output_type": "execute_result"
    }
   ],
   "source": [
    "#limpeza\n",
    "arranca = [':','!','?',',','\"','/',';','.','-','_','=','+','(',')','*','@','#','$','%','§','&']\n",
    "for i in range(num):\n",
    "    dados.Email[i:i+1] = dados.Email[i:i+1].str.replace('  ',' ')\n",
    "    for j in arranca:\n",
    "        dados.Email[i:i+1] = dados.Email[i:i+1].str.replace(j,'')\n",
    "\n",
    "dados.Email"
   ]
  },
  {
   "cell_type": "code",
   "execution_count": 10,
   "metadata": {},
   "outputs": [
    {
     "data": {
      "text/plain": [
       "99.97606510292006"
      ]
     },
     "execution_count": 10,
     "metadata": {},
     "output_type": "execute_result"
    }
   ],
   "source": [
    "dados_treino = dados.loc[:4179]\n",
    "dados_teste = dados.loc[4180:num]\n",
    "\n",
    "Spam = dados_treino.Email[dados_treino.Class == 'spam'].values\n",
    "Ham = dados_treino.Email[dados_treino.Class == 'ham'].values\n",
    "\n",
    "Pspam = (dados_treino.Email[dados_treino.Class == 'spam'].count()/dados_treino.Email.count())*100\n",
    "Pham = (dados_treino.Email[dados_treino.Class == 'ham'].count()/dados_treino.Email.count())*100\n",
    "\n",
    "Pspam + Pham"
   ]
  },
  {
   "cell_type": "code",
   "execution_count": 18,
   "metadata": {},
   "outputs": [
    {
     "ename": "AttributeError",
     "evalue": "module 'pandas' has no attribute 'series'",
     "output_type": "error",
     "traceback": [
      "\u001b[1;31m---------------------------------------------------------------------------\u001b[0m",
      "\u001b[1;31mAttributeError\u001b[0m                            Traceback (most recent call last)",
      "\u001b[1;32m<ipython-input-18-e29fea42acc2>\u001b[0m in \u001b[0;36m<module>\u001b[1;34m()\u001b[0m\n\u001b[0;32m      7\u001b[0m     \u001b[0mi\u001b[0m\u001b[1;33m+=\u001b[0m\u001b[1;36m1\u001b[0m\u001b[1;33m\u001b[0m\u001b[0m\n\u001b[0;32m      8\u001b[0m \u001b[1;33m\u001b[0m\u001b[0m\n\u001b[1;32m----> 9\u001b[1;33m \u001b[0mspam_words\u001b[0m \u001b[1;33m=\u001b[0m \u001b[0mpd\u001b[0m\u001b[1;33m.\u001b[0m\u001b[0mseries\u001b[0m\u001b[1;33m(\u001b[0m\u001b[0mspam_words\u001b[0m\u001b[1;33m)\u001b[0m\u001b[1;33m\u001b[0m\u001b[0m\n\u001b[0m",
      "\u001b[1;31mAttributeError\u001b[0m: module 'pandas' has no attribute 'series'"
     ]
    }
   ],
   "source": [
    "spam_words = []\n",
    "i = 0\n",
    "while i < len(Spam):\n",
    "    word = Spam[i].split()\n",
    "    for j in word:\n",
    "        spam_words.append(j)\n",
    "    i+=1\n",
    "    \n",
    "spam_words = pd.series(spam_words)"
   ]
  },
  {
   "cell_type": "markdown",
   "metadata": {},
   "source": [
    "___\n",
    "## 4. Curva ROC"
   ]
  },
  {
   "cell_type": "code",
   "execution_count": null,
   "metadata": {
    "collapsed": true
   },
   "outputs": [],
   "source": []
  },
  {
   "cell_type": "code",
   "execution_count": null,
   "metadata": {
    "collapsed": true
   },
   "outputs": [],
   "source": []
  },
  {
   "cell_type": "code",
   "execution_count": null,
   "metadata": {
    "collapsed": true
   },
   "outputs": [],
   "source": []
  },
  {
   "cell_type": "markdown",
   "metadata": {},
   "source": [
    "___\n",
    "## 5. Qualidade do Classificador alterando a base de treinamento"
   ]
  },
  {
   "cell_type": "code",
   "execution_count": null,
   "metadata": {
    "collapsed": true
   },
   "outputs": [],
   "source": []
  },
  {
   "cell_type": "code",
   "execution_count": null,
   "metadata": {
    "collapsed": true
   },
   "outputs": [],
   "source": []
  },
  {
   "cell_type": "code",
   "execution_count": null,
   "metadata": {
    "collapsed": true
   },
   "outputs": [],
   "source": []
  },
  {
   "cell_type": "code",
   "execution_count": null,
   "metadata": {
    "collapsed": true
   },
   "outputs": [],
   "source": []
  }
 ],
 "metadata": {
  "anaconda-cloud": {},
  "kernelspec": {
   "display_name": "Python 3",
   "language": "python",
   "name": "python3"
  },
  "language_info": {
   "codemirror_mode": {
    "name": "ipython",
    "version": 3
   },
   "file_extension": ".py",
   "mimetype": "text/x-python",
   "name": "python",
   "nbconvert_exporter": "python",
   "pygments_lexer": "ipython3",
   "version": "3.6.3"
  }
 },
 "nbformat": 4,
 "nbformat_minor": 1
}
